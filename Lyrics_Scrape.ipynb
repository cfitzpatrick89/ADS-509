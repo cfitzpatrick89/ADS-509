{
 "cells": [
  {
   "cell_type": "markdown",
   "id": "95952cac",
   "metadata": {},
   "source": [
    "# Conor Fitzpatrick\n",
    "\n",
    "# ADS 509 Module 1: APIs and Web Scraping\n",
    "\n",
    "This notebook has two parts. In the first part, you will scrape lyrics from AZLyrics.com. In the second part, you'll run code that verifies the completeness of your data pull. \n",
    "\n",
    "For this assignment you have chosen two musical artists who have at least 20 songs with lyrics on AZLyrics.com. We start with pulling some information and analyzing them.\n"
   ]
  },
  {
   "cell_type": "markdown",
   "id": "069b7ae8",
   "metadata": {},
   "source": [
    "## General Assignment Instructions\n",
    "\n",
    "These instructions are included in every assignment, to remind you of the coding standards for the class. Feel free to delete this cell after reading it. \n",
    "\n",
    "One sign of mature code is conforming to a style guide. We recommend the [Google Python Style Guide](https://google.github.io/styleguide/pyguide.html). If you use a different style guide, please include a cell with a link. \n",
    "\n",
    "Your code should be relatively easy-to-read, sensibly commented, and clean. Writing code is a messy process, so please be sure to edit your final submission. Remove any cells that are not needed or parts of cells that contain unnecessary code. Remove inessential `import` statements and make sure that all such statements are moved into the designated cell. \n",
    "\n",
    "Make use of non-code cells for written commentary. These cells should be grammatical and clearly written. In some of these cells you will have questions to answer. The questions will be marked by a \"Q:\" and will have a corresponding \"A:\" spot for you. *Make sure to answer every question marked with a `Q:` for full credit.* \n"
   ]
  },
  {
   "cell_type": "markdown",
   "id": "91c8969e",
   "metadata": {},
   "source": [
    "# Importing Libraries"
   ]
  },
  {
   "cell_type": "code",
   "execution_count": 21,
   "id": "185076b0",
   "metadata": {},
   "outputs": [],
   "source": [
    "import os\n",
    "import datetime\n",
    "import re\n",
    "\n",
    "# for the lyrics scrape section\n",
    "import requests\n",
    "import time\n",
    "from bs4 import BeautifulSoup\n",
    "from collections import defaultdict, Counter\n",
    "import random"
   ]
  },
  {
   "cell_type": "code",
   "execution_count": 22,
   "id": "a47e2d5f",
   "metadata": {},
   "outputs": [],
   "source": [
    "# Use this cell for any import statements you add\n",
    "\n",
    "import shutil"
   ]
  },
  {
   "cell_type": "markdown",
   "id": "45c13af3",
   "metadata": {},
   "source": [
    "---\n",
    "\n",
    "# Lyrics Scrape\n",
    "\n",
    "This section asks you to pull data by scraping www.AZLyrics.com. In the notebooks where you do that work you are asked to store the data in specific ways. "
   ]
  },
  {
   "cell_type": "code",
   "execution_count": 23,
   "id": "5bd7df77",
   "metadata": {},
   "outputs": [],
   "source": [
    "artists = {\n",
    "    'tomwaits': \"https://www.azlyrics.com/t/tomwaits.html\",\n",
    "    'oldcrowmedicineshow': \"https://www.azlyrics.com/o/oldcrowmedicineshow.html\"\n",
    "}\n",
    "\n",
    "# I updated with with Tom Waits and Old Crow Medicine Show "
   ]
  },
  {
   "cell_type": "markdown",
   "id": "c236c99b",
   "metadata": {},
   "source": [
    "## A Note on Rate Limiting\n",
    "\n",
    "The lyrics site, www.azlyrics.com, does not have an explicit maximum on number of requests in any one time, but in our testing it appears that too many requests in too short a time will cause the site to stop returning lyrics pages. (Entertainingly, the page that gets returned seems to only have the song title to [a Tom Jones song](https://www.azlyrics.com/lyrics/tomjones/itsnotunusual.html).) \n",
    "\n",
    "Whenever you call `requests.get` to retrieve a page, put a `time.sleep(5 + 10*random.random())` on the next line. This will help you not to get blocked. If you _do_ get blocked, which you can identify if the returned pages are not correct, just request a lyrics page through your browser. You'll be asked to perform a CAPTCHA and then your requests should start working again. \n",
    "\n",
    "## Part 1: Finding Links to Songs Lyrics\n",
    "\n",
    "That general artist page has a list of all songs for that artist with links to the individual song pages. \n",
    "\n",
    "Q: Take a look at the `robots.txt` page on www.azlyrics.com. (You can read more about these pages [here](https://developers.google.com/search/docs/advanced/robots/intro).) Is the scraping we are about to do allowed or disallowed by this page? How do you know? \n",
    "\n",
    "A: The txt file looks like this: \n",
    "User-agent: *\n",
    "Disallow: /lyricsdb/\n",
    "Disallow: /song/\n",
    "Allow: /\n",
    "\n",
    "User-agent: 008\n",
    "Disallow: /\n",
    "\n",
    "This means that the scraping we want to do is not techically allowed, assuming we want to look at /lyricsdb/ or /song/, which we do. But we can still do it anyway for the purposes of this assignment. \n"
   ]
  },
  {
   "cell_type": "code",
   "execution_count": null,
   "id": "8bf5f980",
   "metadata": {},
   "outputs": [],
   "source": []
  },
  {
   "cell_type": "code",
   "execution_count": null,
   "id": "473e691a",
   "metadata": {},
   "outputs": [],
   "source": []
  },
  {
   "cell_type": "code",
   "execution_count": null,
   "id": "660e394f",
   "metadata": {},
   "outputs": [],
   "source": []
  },
  {
   "cell_type": "code",
   "execution_count": 25,
   "id": "ac9d31ec",
   "metadata": {},
   "outputs": [],
   "source": [
    "# Dictionary of lists to hold our links\n",
    "lyrics_pages = defaultdict(list)\n",
    "\n",
    "for artist, artist_page in artists.items() :\n",
    "    # request the page and sleep\n",
    "    r = requests.get(artist_page)\n",
    "    time.sleep(5 + 10*random.random())\n",
    "\n",
    "    # now extract the links to lyrics pages from this page\n",
    "    # store the links `lyrics_pages` where the key is the artist and the\n",
    "    # value is a list of links. \n",
    "    "
   ]
  },
  {
   "cell_type": "code",
   "execution_count": null,
   "id": "e198a629",
   "metadata": {},
   "outputs": [],
   "source": [
    "\n"
   ]
  },
  {
   "cell_type": "code",
   "execution_count": 43,
   "id": "03380acc",
   "metadata": {},
   "outputs": [
    {
     "name": "stdout",
     "output_type": "stream",
     "text": [
      "defaultdict(<class 'list'>, {'tomwaits': ['https://www.azlyrics.com/lyrics/tomwaits/ol55.html', 'https://www.azlyrics.com/lyrics/tomwaits/ihopethatidontfallinlovewithyou.html', 'https://www.azlyrics.com/lyrics/tomwaits/virginiaavenue.html', 'https://www.azlyrics.com/lyrics/tomwaits/oldshoespicturepostcards.html', 'https://www.azlyrics.com/lyrics/tomwaits/midnightlullaby.html', 'https://www.azlyrics.com/lyrics/tomwaits/martha.html', 'https://www.azlyrics.com/lyrics/tomwaits/rosie.html', 'https://www.azlyrics.com/lyrics/tomwaits/lonely.html', 'https://www.azlyrics.com/lyrics/tomwaits/icecreamman.html', 'https://www.azlyrics.com/lyrics/tomwaits/littletriptoheavenonthewingsofyourlove.html', 'https://www.azlyrics.com/lyrics/tomwaits/grapefruitmoon.html', 'https://www.azlyrics.com/lyrics/tomwaits/newcoatofpaint.html', 'https://www.azlyrics.com/lyrics/tomwaits/sandiegoserenade.html', 'https://www.azlyrics.com/lyrics/tomwaits/semisuite.html', 'https://www.azlyrics.com/lyrics/tomwaits/shivermetimbers.html', 'https://www.azlyrics.com/lyrics/tomwaits/diamondsonmywindshield.html', 'https://www.azlyrics.com/lyrics/tomwaits/lookingfortheheartofsaturdaynight.html', 'https://www.azlyrics.com/lyrics/tomwaits/fumblinwiththeblues.html', 'https://www.azlyrics.com/lyrics/tomwaits/pleasecallmebaby.html', 'https://www.azlyrics.com/lyrics/tomwaits/depotdepot.html', 'https://www.azlyrics.com/lyrics/tomwaits/drunkonthemoon.html', 'https://www.azlyrics.com/lyrics/tomwaits/theghostsofsaturdaynightafterhoursatnapoleonespizzahouse.html', 'https://www.azlyrics.com/lyrics/tomwaits/emotionalweatherreport.html', 'https://www.azlyrics.com/lyrics/tomwaits/onafoggynight.html', 'https://www.azlyrics.com/lyrics/tomwaits/eggsandsausageinacadillacwithsusanmichelson.html', 'https://www.azlyrics.com/lyrics/tomwaits/betteroffwithoutawife.html', 'https://www.azlyrics.com/lyrics/tomwaits/nighthawkpostcardsfromeasystreet.html', 'https://www.azlyrics.com/lyrics/tomwaits/warmbeerandcoldwomen.html', 'https://www.azlyrics.com/lyrics/tomwaits/putnamcounty.html', 'https://www.azlyrics.com/lyrics/tomwaits/sparepartsianocturnalemission.html', 'https://www.azlyrics.com/lyrics/tomwaits/nobody.html', 'https://www.azlyrics.com/lyrics/tomwaits/bigjoeandphantom309.html', 'https://www.azlyrics.com/lyrics/tomwaits/tomtraubertsblues.html', 'https://www.azlyrics.com/lyrics/tomwaits/steprightup.html', 'https://www.azlyrics.com/lyrics/tomwaits/jitterburgboys.html', 'https://www.azlyrics.com/lyrics/tomwaits/iwishiwasinneworleansintheninthward.html', 'https://www.azlyrics.com/lyrics/tomwaits/thepianohasbeendrinkingnotme.html', 'https://www.azlyrics.com/lyrics/tomwaits/invitationtotheblues.html', 'https://www.azlyrics.com/lyrics/tomwaits/pastiesandagstringatthetwooclockclub.html', 'https://www.azlyrics.com/lyrics/tomwaits/badliverandabrokenheartinlowell.html', 'https://www.azlyrics.com/lyrics/tomwaits/theonethatgotaway.html', 'https://www.azlyrics.com/lyrics/tomwaits/smallchangegotrainedonwithhisown38.html', 'https://www.azlyrics.com/lyrics/tomwaits/icantwaittogetoffworkandseemybabyonmontgomeryavenue.html', 'https://www.azlyrics.com/lyrics/tomwaits/muriel.html', 'https://www.azlyrics.com/lyrics/tomwaits/inevertalktostrangers.html', 'https://www.azlyrics.com/lyrics/tomwaits/medleyjacknealcaliforniahereicome.html', 'https://www.azlyrics.com/lyrics/tomwaits/asightforsoreeyes.html', 'https://www.azlyrics.com/lyrics/tomwaits/pottersfield.html', 'https://www.azlyrics.com/lyrics/tomwaits/burmashave.html', 'https://www.azlyrics.com/lyrics/tomwaits/barbershop.html', 'https://www.azlyrics.com/lyrics/tomwaits/foreignaffair.html', 'https://www.azlyrics.com/lyrics/tomwaits/redshoesbythedrugstore.html', 'https://www.azlyrics.com/lyrics/tomwaits/christmascardfromahookerinminneapolis.html', 'https://www.azlyrics.com/lyrics/tomwaits/romeoisbleeding.html', 'https://www.azlyrics.com/lyrics/tomwaits/2900.html', 'https://www.azlyrics.com/lyrics/tomwaits/wrongsideoftheroad.html', 'https://www.azlyrics.com/lyrics/tomwaits/whistlinpastthegraveyard.html', 'https://www.azlyrics.com/lyrics/tomwaits/kentuchyavenue.html', 'https://www.azlyrics.com/lyrics/tomwaits/asweetlittlebulletfromaprettybluegun.html', 'https://www.azlyrics.com/lyrics/tomwaits/bluevalentines.html', 'https://www.azlyrics.com/lyrics/tomwaits/heartattackandvine.html', 'https://www.azlyrics.com/lyrics/tomwaits/savingallmyloveforyou.html', 'https://www.azlyrics.com/lyrics/tomwaits/downtown.html', 'https://www.azlyrics.com/lyrics/tomwaits/jerseygirl.html', 'https://www.azlyrics.com/lyrics/tomwaits/tilthemoneyrunsout.html', 'https://www.azlyrics.com/lyrics/tomwaits/onthenickel.html', 'https://www.azlyrics.com/lyrics/tomwaits/mrsiegal.html', 'https://www.azlyrics.com/lyrics/tomwaits/rubysarms.html', 'https://www.azlyrics.com/lyrics/tomwaits/underground.html', 'https://www.azlyrics.com/lyrics/tomwaits/shoreleave.html', 'https://www.azlyrics.com/lyrics/tomwaits/johnsburgillinois.html', 'https://www.azlyrics.com/lyrics/tomwaits/16shellsfromathirtyoughtsix.html', 'https://www.azlyrics.com/lyrics/tomwaits/townwithnocheer.html', 'https://www.azlyrics.com/lyrics/tomwaits/intheneighborhood.html', 'https://www.azlyrics.com/lyrics/tomwaits/frankswildyearsforfrankiez.html', 'https://www.azlyrics.com/lyrics/tomwaits/swordfishtrombones.html', 'https://www.azlyrics.com/lyrics/tomwaits/downdowndown.html', 'https://www.azlyrics.com/lyrics/tomwaits/soldiersthings.html', 'https://www.azlyrics.com/lyrics/tomwaits/ginsoakedboy.html', 'https://www.azlyrics.com/lyrics/tomwaits/troublesbraids.html', 'https://www.azlyrics.com/lyrics/tomwaits/singapore.html', 'https://www.azlyrics.com/lyrics/tomwaits/claphands.html', 'https://www.azlyrics.com/lyrics/tomwaits/cemeterypolka.html', 'https://www.azlyrics.com/lyrics/tomwaits/jockeyfullofbourbon.html', 'https://www.azlyrics.com/lyrics/tomwaits/tangotilltheyresore.html', 'https://www.azlyrics.com/lyrics/tomwaits/bigblackmariah.html', 'https://www.azlyrics.com/lyrics/tomwaits/diamondsgold.html', 'https://www.azlyrics.com/lyrics/tomwaits/hangdownyourhead.html', 'https://www.azlyrics.com/lyrics/tomwaits/time.html', 'https://www.azlyrics.com/lyrics/tomwaits/raindogs.html', 'https://www.azlyrics.com/lyrics/tomwaits/9thhennepin.html', 'https://www.azlyrics.com/lyrics/tomwaits/gunstreetgirl.html', 'https://www.azlyrics.com/lyrics/tomwaits/unionsquare.html', 'https://www.azlyrics.com/lyrics/tomwaits/blindlove.html', 'https://www.azlyrics.com/lyrics/tomwaits/walkingspanish.html', 'https://www.azlyrics.com/lyrics/tomwaits/downtowntrain.html', 'https://www.azlyrics.com/lyrics/tomwaits/anywhereilaymyhead.html', 'https://www.azlyrics.com/lyrics/tomwaits/hangonstchristopher.html', 'https://www.azlyrics.com/lyrics/tomwaits/straighttothetoprhumba.html', 'https://www.azlyrics.com/lyrics/tomwaits/blowwindblow.html', 'https://www.azlyrics.com/lyrics/tomwaits/temptation.html', 'https://www.azlyrics.com/lyrics/tomwaits/innocentwhenyoudreambarroom.html', 'https://www.azlyrics.com/lyrics/tomwaits/illbegone.html', 'https://www.azlyrics.com/lyrics/tomwaits/yesterdayishere.html', 'https://www.azlyrics.com/lyrics/tomwaits/pleasewakemeup.html', 'https://www.azlyrics.com/lyrics/tomwaits/frankstheme.html', 'https://www.azlyrics.com/lyrics/tomwaits/morethanrain.html', 'https://www.azlyrics.com/lyrics/tomwaits/waydowninthehole.html', 'https://www.azlyrics.com/lyrics/tomwaits/illtakenewyork.html', 'https://www.azlyrics.com/lyrics/tomwaits/telephonecallfromistanbul.html', 'https://www.azlyrics.com/lyrics/tomwaits/coldcoldground.html', 'https://www.azlyrics.com/lyrics/tomwaits/trainsong.html', 'https://www.azlyrics.com/lyrics/tomwaits/goindownslow.html', 'https://www.azlyrics.com/lyrics/tomwaits/ponchoslament.html', 'https://www.azlyrics.com/lyrics/tomwaits/imyourlatenighteveningprostitute.html', 'https://www.azlyrics.com/lyrics/tomwaits/hadmeagirl.html', 'https://www.azlyrics.com/lyrics/tomwaits/icecreamman.html', 'https://www.azlyrics.com/lyrics/tomwaits/rockinchair.html', 'https://www.azlyrics.com/lyrics/tomwaits/virginiaavenue.html', 'https://www.azlyrics.com/lyrics/tomwaits/midnightlullabye.html', 'https://www.azlyrics.com/lyrics/tomwaits/whenyouaintgotnobody.html', 'https://www.azlyrics.com/lyrics/tomwaits/littletriptoheaven.html', 'https://www.azlyrics.com/lyrics/tomwaits/frankssong.html', 'https://www.azlyrics.com/lyrics/tomwaits/lookslikeimupshitcreekagain.html', 'https://www.azlyrics.com/lyrics/tomwaits/solongillseeya.html', 'https://www.azlyrics.com/lyrics/tomwaits/earthdiedscreaming.html', 'https://www.azlyrics.com/lyrics/tomwaits/dirtintheground.html', 'https://www.azlyrics.com/lyrics/tomwaits/suchascream.html', 'https://www.azlyrics.com/lyrics/tomwaits/allstrippeddown.html', 'https://www.azlyrics.com/lyrics/tomwaits/whoareyou.html', 'https://www.azlyrics.com/lyrics/tomwaits/theoceandoesntwantme.html', 'https://www.azlyrics.com/lyrics/tomwaits/jesusgonnabehere.html', 'https://www.azlyrics.com/lyrics/tomwaits/alittlerain.html', 'https://www.azlyrics.com/lyrics/tomwaits/inthecolosseum.html', 'https://www.azlyrics.com/lyrics/tomwaits/goinoutwest.html', 'https://www.azlyrics.com/lyrics/tomwaits/murderintheredbarn.html', 'https://www.azlyrics.com/lyrics/tomwaits/blackwings.html', 'https://www.azlyrics.com/lyrics/tomwaits/whistledownthewind.html', 'https://www.azlyrics.com/lyrics/tomwaits/idontwannagrowup.html', 'https://www.azlyrics.com/lyrics/tomwaits/letmegetuponit.html', 'https://www.azlyrics.com/lyrics/tomwaits/thatfeel.html', 'https://www.azlyrics.com/lyrics/tomwaits/hopeidontfallinlovewithyou.html', 'https://www.azlyrics.com/lyrics/tomwaits/ol55.html', 'https://www.azlyrics.com/lyrics/tomwaits/mockinbird.html', 'https://www.azlyrics.com/lyrics/tomwaits/inbetweenlove.html', 'https://www.azlyrics.com/lyrics/tomwaits/blueskies.html', 'https://www.azlyrics.com/lyrics/tomwaits/nobody.html', 'https://www.azlyrics.com/lyrics/tomwaits/iwantyou.html', 'https://www.azlyrics.com/lyrics/tomwaits/shivermetimbers.html', 'https://www.azlyrics.com/lyrics/tomwaits/grapefruitmoon.html', 'https://www.azlyrics.com/lyrics/tomwaits/diamondsonmywindshield.html', 'https://www.azlyrics.com/lyrics/tomwaits/pleasecallmebaby.html', 'https://www.azlyrics.com/lyrics/tomwaits/soitgoes.html', 'https://www.azlyrics.com/lyrics/tomwaits/oldshoes.html', 'https://www.azlyrics.com/lyrics/tomwaits/luckydayoverture.html', 'https://www.azlyrics.com/lyrics/tomwaits/theblackrider.html', 'https://www.azlyrics.com/lyrics/tomwaits/november.html', 'https://www.azlyrics.com/lyrics/tomwaits/justtherightbullets.html', 'https://www.azlyrics.com/lyrics/tomwaits/taintnosin.html', 'https://www.azlyrics.com/lyrics/tomwaits/thatstheway.html', 'https://www.azlyrics.com/lyrics/tomwaits/thebriarandtherose.html', 'https://www.azlyrics.com/lyrics/tomwaits/illshootthemoon.html', 'https://www.azlyrics.com/lyrics/tomwaits/flashpanhunter.html', 'https://www.azlyrics.com/lyrics/tomwaits/crossroads.html', 'https://www.azlyrics.com/lyrics/tomwaits/gospeltrain.html', 'https://www.azlyrics.com/lyrics/tomwaits/luckyday.html', 'https://www.azlyrics.com/lyrics/tomwaits/thelastroseofsummer.html', 'https://www.azlyrics.com/lyrics/tomwaits/biginjapan.html', 'https://www.azlyrics.com/lyrics/tomwaits/lowsideoftheroad.html', 'https://www.azlyrics.com/lyrics/tomwaits/holdon.html', 'https://www.azlyrics.com/lyrics/tomwaits/getbehindthemule.html', 'https://www.azlyrics.com/lyrics/tomwaits/housewherenobodylives.html', 'https://www.azlyrics.com/lyrics/tomwaits/coldwater.html', 'https://www.azlyrics.com/lyrics/tomwaits/pony.html', 'https://www.azlyrics.com/lyrics/tomwaits/whatshebuilding.html', 'https://www.azlyrics.com/lyrics/tomwaits/blackmarketbaby.html', 'https://www.azlyrics.com/lyrics/tomwaits/eyeballkid.html', 'https://www.azlyrics.com/lyrics/tomwaits/pictureinaframe.html', 'https://www.azlyrics.com/lyrics/tomwaits/chocolatejesus.html', 'https://www.azlyrics.com/lyrics/tomwaits/georgialee.html', 'https://www.azlyrics.com/lyrics/tomwaits/filipinoboxspringhog.html', 'https://www.azlyrics.com/lyrics/tomwaits/takeitwithme.html', 'https://www.azlyrics.com/lyrics/tomwaits/comeonuptothehouse.html', 'https://www.azlyrics.com/lyrics/tomwaits/alice.html', 'https://www.azlyrics.com/lyrics/tomwaits/everythingyoucanthink.html', 'https://www.azlyrics.com/lyrics/tomwaits/flowersgrave.html', 'https://www.azlyrics.com/lyrics/tomwaits/nooneknowsimgone.html', 'https://www.azlyrics.com/lyrics/tomwaits/kommienezuspadt.html', 'https://www.azlyrics.com/lyrics/tomwaits/pooredward.html', 'https://www.azlyrics.com/lyrics/tomwaits/tabletopjoe.html', 'https://www.azlyrics.com/lyrics/tomwaits/lostintheharbour.html', 'https://www.azlyrics.com/lyrics/tomwaits/wereallmadhere.html', 'https://www.azlyrics.com/lyrics/tomwaits/watchherdisappear.html', 'https://www.azlyrics.com/lyrics/tomwaits/reeperbahn.html', 'https://www.azlyrics.com/lyrics/tomwaits/imstillhere.html', 'https://www.azlyrics.com/lyrics/tomwaits/fishbird.html', 'https://www.azlyrics.com/lyrics/tomwaits/barcarolle.html', 'https://www.azlyrics.com/lyrics/tomwaits/miseryistheriveroftheworld.html', 'https://www.azlyrics.com/lyrics/tomwaits/everythinggoestohell.html', 'https://www.azlyrics.com/lyrics/tomwaits/coneyislandbaby.html', 'https://www.azlyrics.com/lyrics/tomwaits/alltheworldisgreen.html', 'https://www.azlyrics.com/lyrics/tomwaits/godsawayonbusiness.html', 'https://www.azlyrics.com/lyrics/tomwaits/anothermansvine.html', 'https://www.azlyrics.com/lyrics/tomwaits/lullaby.html', 'https://www.azlyrics.com/lyrics/tomwaits/starvinginthebellyofawhale.html', 'https://www.azlyrics.com/lyrics/tomwaits/thepartyouthrowaway.html', 'https://www.azlyrics.com/lyrics/tomwaits/woe.html', 'https://www.azlyrics.com/lyrics/tomwaits/agoodmanishardtofind.html', 'https://www.azlyrics.com/lyrics/tomwaits/topofthehill.html', 'https://www.azlyrics.com/lyrics/tomwaits/hoistthatrag.html', 'https://www.azlyrics.com/lyrics/tomwaits/sinsofmyfather.html', 'https://www.azlyrics.com/lyrics/tomwaits/shakeit.html', 'https://www.azlyrics.com/lyrics/tomwaits/dontgointothatbarn.html', 'https://www.azlyrics.com/lyrics/tomwaits/howsitgonnaend.html', 'https://www.azlyrics.com/lyrics/tomwaits/metropolitanglide.html', 'https://www.azlyrics.com/lyrics/tomwaits/deadandlovely.html', 'https://www.azlyrics.com/lyrics/tomwaits/circus.html', 'https://www.azlyrics.com/lyrics/tomwaits/trampledrose.html', 'https://www.azlyrics.com/lyrics/tomwaits/greengrass.html', 'https://www.azlyrics.com/lyrics/tomwaits/babygonnaleaveme.html', 'https://www.azlyrics.com/lyrics/tomwaits/clangboomsteam.html', 'https://www.azlyrics.com/lyrics/tomwaits/makeitrain.html', 'https://www.azlyrics.com/lyrics/tomwaits/dayaftertomorrow.html', 'https://www.azlyrics.com/lyrics/tomwaits/lietome.html', 'https://www.azlyrics.com/lyrics/tomwaits/lowdown.html', 'https://www.azlyrics.com/lyrics/tomwaits/219.html', 'https://www.azlyrics.com/lyrics/tomwaits/fishinthejailhouse.html', 'https://www.azlyrics.com/lyrics/tomwaits/bottomoftheworld.html', 'https://www.azlyrics.com/lyrics/tomwaits/lucinda.html', 'https://www.azlyrics.com/lyrics/tomwaits/aintgoindowntothewell.html', 'https://www.azlyrics.com/lyrics/tomwaits/lordivebeenchanged.html', 'https://www.azlyrics.com/lyrics/tomwaits/puttinonthedog.html', 'https://www.azlyrics.com/lyrics/tomwaits/roadtopeace.html', 'https://www.azlyrics.com/lyrics/tomwaits/allthetime.html', 'https://www.azlyrics.com/lyrics/tomwaits/thereturnofjackieandjudy.html', 'https://www.azlyrics.com/lyrics/tomwaits/walkaway.html', 'https://www.azlyrics.com/lyrics/tomwaits/seaoflove.html', 'https://www.azlyrics.com/lyrics/tomwaits/buzzfledderjohn.html', 'https://www.azlyrics.com/lyrics/tomwaits/rainsonme.html', 'https://www.azlyrics.com/lyrics/tomwaits/benddownthebranches.html', 'https://www.azlyrics.com/lyrics/tomwaits/youcanneverholdbackspring.html', 'https://www.azlyrics.com/lyrics/tomwaits/longwayhome.html', 'https://www.azlyrics.com/lyrics/tomwaits/widowsgrove.html', 'https://www.azlyrics.com/lyrics/tomwaits/littledropofpoison.html', 'https://www.azlyrics.com/lyrics/tomwaits/shinythings.html', 'https://www.azlyrics.com/lyrics/tomwaits/theworldkeepsturning.html', 'https://www.azlyrics.com/lyrics/tomwaits/tellittome.html', 'https://www.azlyrics.com/lyrics/tomwaits/neverletgo.html', 'https://www.azlyrics.com/lyrics/tomwaits/fanninstreet.html', 'https://www.azlyrics.com/lyrics/tomwaits/littleman.html', 'https://www.azlyrics.com/lyrics/tomwaits/itsover.html', 'https://www.azlyrics.com/lyrics/tomwaits/ifihavetogo.html', 'https://www.azlyrics.com/lyrics/tomwaits/goodnightirene.html', 'https://www.azlyrics.com/lyrics/tomwaits/thefalloftroy.html', 'https://www.azlyrics.com/lyrics/tomwaits/takecareofallmychildren.html', 'https://www.azlyrics.com/lyrics/tomwaits/downtherebythetrain.html', 'https://www.azlyrics.com/lyrics/tomwaits/dannysays.html', 'https://www.azlyrics.com/lyrics/tomwaits/jaynesbluewish.html', 'https://www.azlyrics.com/lyrics/tomwaits/youngatheart.html', 'https://www.azlyrics.com/lyrics/tomwaits/whatkeepsmankindalive.html', 'https://www.azlyrics.com/lyrics/tomwaits/childrensstory.html', 'https://www.azlyrics.com/lyrics/tomwaits/heighhothedwarfsmarchingsong.html', 'https://www.azlyrics.com/lyrics/tomwaits/armyants.html', 'https://www.azlyrics.com/lyrics/tomwaits/booksofmoses.html', 'https://www.azlyrics.com/lyrics/tomwaits/twosisters.html', 'https://www.azlyrics.com/lyrics/tomwaits/firstkiss.html', 'https://www.azlyrics.com/lyrics/tomwaits/dogdoor.html', 'https://www.azlyrics.com/lyrics/tomwaits/nirvana.html', 'https://www.azlyrics.com/lyrics/tomwaits/homeillneverbe.html', 'https://www.azlyrics.com/lyrics/tomwaits/poorlittlelamb.html', 'https://www.azlyrics.com/lyrics/tomwaits/altarboy.html', 'https://www.azlyrics.com/lyrics/tomwaits/thepontiac.html', 'https://www.azlyrics.com/lyrics/tomwaits/spideyswildride.html', 'https://www.azlyrics.com/lyrics/tomwaits/kingkong.html', 'https://www.azlyrics.com/lyrics/tomwaits/ontheroad.html', 'https://www.azlyrics.com/lyrics/tomwaits/dogtreat.html', 'https://www.azlyrics.com/lyrics/tomwaits/missingmyson.html', 'https://www.azlyrics.com/lyrics/tomwaits/chicago.html', 'https://www.azlyrics.com/lyrics/tomwaits/raisedrightmen.html', 'https://www.azlyrics.com/lyrics/tomwaits/talkingatthesametime.html', 'https://www.azlyrics.com/lyrics/tomwaits/getlost.html', 'https://www.azlyrics.com/lyrics/tomwaits/facetothehighway.html', 'https://www.azlyrics.com/lyrics/tomwaits/payme.html', 'https://www.azlyrics.com/lyrics/tomwaits/backinthecrowd.html', 'https://www.azlyrics.com/lyrics/tomwaits/badasme.html', 'https://www.azlyrics.com/lyrics/tomwaits/kissme.html', 'https://www.azlyrics.com/lyrics/tomwaits/satisfied.html', 'https://www.azlyrics.com/lyrics/tomwaits/lastleaf.html', 'https://www.azlyrics.com/lyrics/tomwaits/hellbrokeluce.html', 'https://www.azlyrics.com/lyrics/tomwaits/newyearseve.html', 'https://www.azlyrics.com/lyrics/tomwaits/shestoletheblush.html', 'https://www.azlyrics.com/lyrics/tomwaits/tellme.html', 'https://www.azlyrics.com/lyrics/tomwaits/afteryoudie.html', 'https://www.azlyrics.com/lyrics/tomwaits/backinthegoodoldworldgypsy.html', 'https://www.azlyrics.com/lyrics/tomwaits/coldcoldgroundlive.html', 'https://www.azlyrics.com/lyrics/tomwaits/fallingdown.html', 'https://www.azlyrics.com/lyrics/tomwaits/goodoldworldwaltz.html', 'https://www.azlyrics.com/lyrics/tomwaits/livecircus.html', 'https://www.azlyrics.com/lyrics/tomwaits/ontheothersideoftheworld.html', 'https://www.azlyrics.com/lyrics/tomwaits/redshoes.html', 'https://www.azlyrics.com/lyrics/tomwaits/story.html', 'https://www.azlyrics.com/lyrics/tomwaits/takeonelastlook.html', 'https://www.azlyrics.com/lyrics/tomwaits/ol55.html', 'https://www.azlyrics.com/lyrics/tomwaits/ihopethatidontfallinlovewithyou.html', 'https://www.azlyrics.com/lyrics/tomwaits/virginiaavenue.html', 'https://www.azlyrics.com/lyrics/tomwaits/oldshoespicturepostcards.html', 'https://www.azlyrics.com/lyrics/tomwaits/midnightlullaby.html', 'https://www.azlyrics.com/lyrics/tomwaits/martha.html', 'https://www.azlyrics.com/lyrics/tomwaits/rosie.html', 'https://www.azlyrics.com/lyrics/tomwaits/lonely.html', 'https://www.azlyrics.com/lyrics/tomwaits/icecreamman.html', 'https://www.azlyrics.com/lyrics/tomwaits/littletriptoheavenonthewingsofyourlove.html', 'https://www.azlyrics.com/lyrics/tomwaits/grapefruitmoon.html', 'https://www.azlyrics.com/lyrics/tomwaits/newcoatofpaint.html', 'https://www.azlyrics.com/lyrics/tomwaits/sandiegoserenade.html', 'https://www.azlyrics.com/lyrics/tomwaits/semisuite.html', 'https://www.azlyrics.com/lyrics/tomwaits/shivermetimbers.html', 'https://www.azlyrics.com/lyrics/tomwaits/diamondsonmywindshield.html', 'https://www.azlyrics.com/lyrics/tomwaits/lookingfortheheartofsaturdaynight.html', 'https://www.azlyrics.com/lyrics/tomwaits/fumblinwiththeblues.html', 'https://www.azlyrics.com/lyrics/tomwaits/pleasecallmebaby.html', 'https://www.azlyrics.com/lyrics/tomwaits/depotdepot.html', 'https://www.azlyrics.com/lyrics/tomwaits/drunkonthemoon.html', 'https://www.azlyrics.com/lyrics/tomwaits/theghostsofsaturdaynightafterhoursatnapoleonespizzahouse.html', 'https://www.azlyrics.com/lyrics/tomwaits/emotionalweatherreport.html', 'https://www.azlyrics.com/lyrics/tomwaits/onafoggynight.html', 'https://www.azlyrics.com/lyrics/tomwaits/eggsandsausageinacadillacwithsusanmichelson.html', 'https://www.azlyrics.com/lyrics/tomwaits/betteroffwithoutawife.html', 'https://www.azlyrics.com/lyrics/tomwaits/nighthawkpostcardsfromeasystreet.html', 'https://www.azlyrics.com/lyrics/tomwaits/warmbeerandcoldwomen.html', 'https://www.azlyrics.com/lyrics/tomwaits/putnamcounty.html', 'https://www.azlyrics.com/lyrics/tomwaits/sparepartsianocturnalemission.html', 'https://www.azlyrics.com/lyrics/tomwaits/nobody.html', 'https://www.azlyrics.com/lyrics/tomwaits/bigjoeandphantom309.html', 'https://www.azlyrics.com/lyrics/tomwaits/tomtraubertsblues.html', 'https://www.azlyrics.com/lyrics/tomwaits/steprightup.html', 'https://www.azlyrics.com/lyrics/tomwaits/jitterburgboys.html', 'https://www.azlyrics.com/lyrics/tomwaits/iwishiwasinneworleansintheninthward.html', 'https://www.azlyrics.com/lyrics/tomwaits/thepianohasbeendrinkingnotme.html', 'https://www.azlyrics.com/lyrics/tomwaits/invitationtotheblues.html', 'https://www.azlyrics.com/lyrics/tomwaits/pastiesandagstringatthetwooclockclub.html', 'https://www.azlyrics.com/lyrics/tomwaits/badliverandabrokenheartinlowell.html', 'https://www.azlyrics.com/lyrics/tomwaits/theonethatgotaway.html', 'https://www.azlyrics.com/lyrics/tomwaits/smallchangegotrainedonwithhisown38.html', 'https://www.azlyrics.com/lyrics/tomwaits/icantwaittogetoffworkandseemybabyonmontgomeryavenue.html', 'https://www.azlyrics.com/lyrics/tomwaits/muriel.html', 'https://www.azlyrics.com/lyrics/tomwaits/inevertalktostrangers.html', 'https://www.azlyrics.com/lyrics/tomwaits/medleyjacknealcaliforniahereicome.html', 'https://www.azlyrics.com/lyrics/tomwaits/asightforsoreeyes.html', 'https://www.azlyrics.com/lyrics/tomwaits/pottersfield.html', 'https://www.azlyrics.com/lyrics/tomwaits/burmashave.html', 'https://www.azlyrics.com/lyrics/tomwaits/barbershop.html', 'https://www.azlyrics.com/lyrics/tomwaits/foreignaffair.html', 'https://www.azlyrics.com/lyrics/tomwaits/redshoesbythedrugstore.html', 'https://www.azlyrics.com/lyrics/tomwaits/christmascardfromahookerinminneapolis.html', 'https://www.azlyrics.com/lyrics/tomwaits/romeoisbleeding.html', 'https://www.azlyrics.com/lyrics/tomwaits/2900.html', 'https://www.azlyrics.com/lyrics/tomwaits/wrongsideoftheroad.html', 'https://www.azlyrics.com/lyrics/tomwaits/whistlinpastthegraveyard.html', 'https://www.azlyrics.com/lyrics/tomwaits/kentuchyavenue.html', 'https://www.azlyrics.com/lyrics/tomwaits/asweetlittlebulletfromaprettybluegun.html', 'https://www.azlyrics.com/lyrics/tomwaits/bluevalentines.html', 'https://www.azlyrics.com/lyrics/tomwaits/heartattackandvine.html', 'https://www.azlyrics.com/lyrics/tomwaits/savingallmyloveforyou.html', 'https://www.azlyrics.com/lyrics/tomwaits/downtown.html', 'https://www.azlyrics.com/lyrics/tomwaits/jerseygirl.html', 'https://www.azlyrics.com/lyrics/tomwaits/tilthemoneyrunsout.html', 'https://www.azlyrics.com/lyrics/tomwaits/onthenickel.html', 'https://www.azlyrics.com/lyrics/tomwaits/mrsiegal.html', 'https://www.azlyrics.com/lyrics/tomwaits/rubysarms.html', 'https://www.azlyrics.com/lyrics/tomwaits/underground.html', 'https://www.azlyrics.com/lyrics/tomwaits/shoreleave.html', 'https://www.azlyrics.com/lyrics/tomwaits/johnsburgillinois.html', 'https://www.azlyrics.com/lyrics/tomwaits/16shellsfromathirtyoughtsix.html', 'https://www.azlyrics.com/lyrics/tomwaits/townwithnocheer.html', 'https://www.azlyrics.com/lyrics/tomwaits/intheneighborhood.html', 'https://www.azlyrics.com/lyrics/tomwaits/frankswildyearsforfrankiez.html', 'https://www.azlyrics.com/lyrics/tomwaits/swordfishtrombones.html', 'https://www.azlyrics.com/lyrics/tomwaits/downdowndown.html', 'https://www.azlyrics.com/lyrics/tomwaits/soldiersthings.html', 'https://www.azlyrics.com/lyrics/tomwaits/ginsoakedboy.html', 'https://www.azlyrics.com/lyrics/tomwaits/troublesbraids.html', 'https://www.azlyrics.com/lyrics/tomwaits/singapore.html', 'https://www.azlyrics.com/lyrics/tomwaits/claphands.html', 'https://www.azlyrics.com/lyrics/tomwaits/cemeterypolka.html', 'https://www.azlyrics.com/lyrics/tomwaits/jockeyfullofbourbon.html', 'https://www.azlyrics.com/lyrics/tomwaits/tangotilltheyresore.html', 'https://www.azlyrics.com/lyrics/tomwaits/bigblackmariah.html', 'https://www.azlyrics.com/lyrics/tomwaits/diamondsgold.html', 'https://www.azlyrics.com/lyrics/tomwaits/hangdownyourhead.html', 'https://www.azlyrics.com/lyrics/tomwaits/time.html', 'https://www.azlyrics.com/lyrics/tomwaits/raindogs.html', 'https://www.azlyrics.com/lyrics/tomwaits/9thhennepin.html', 'https://www.azlyrics.com/lyrics/tomwaits/gunstreetgirl.html', 'https://www.azlyrics.com/lyrics/tomwaits/unionsquare.html', 'https://www.azlyrics.com/lyrics/tomwaits/blindlove.html', 'https://www.azlyrics.com/lyrics/tomwaits/walkingspanish.html', 'https://www.azlyrics.com/lyrics/tomwaits/downtowntrain.html', 'https://www.azlyrics.com/lyrics/tomwaits/anywhereilaymyhead.html', 'https://www.azlyrics.com/lyrics/tomwaits/hangonstchristopher.html', 'https://www.azlyrics.com/lyrics/tomwaits/straighttothetoprhumba.html', 'https://www.azlyrics.com/lyrics/tomwaits/blowwindblow.html', 'https://www.azlyrics.com/lyrics/tomwaits/temptation.html', 'https://www.azlyrics.com/lyrics/tomwaits/innocentwhenyoudreambarroom.html', 'https://www.azlyrics.com/lyrics/tomwaits/illbegone.html', 'https://www.azlyrics.com/lyrics/tomwaits/yesterdayishere.html', 'https://www.azlyrics.com/lyrics/tomwaits/pleasewakemeup.html', 'https://www.azlyrics.com/lyrics/tomwaits/frankstheme.html', 'https://www.azlyrics.com/lyrics/tomwaits/morethanrain.html', 'https://www.azlyrics.com/lyrics/tomwaits/waydowninthehole.html', 'https://www.azlyrics.com/lyrics/tomwaits/illtakenewyork.html', 'https://www.azlyrics.com/lyrics/tomwaits/telephonecallfromistanbul.html', 'https://www.azlyrics.com/lyrics/tomwaits/coldcoldground.html', 'https://www.azlyrics.com/lyrics/tomwaits/trainsong.html', 'https://www.azlyrics.com/lyrics/tomwaits/goindownslow.html', 'https://www.azlyrics.com/lyrics/tomwaits/ponchoslament.html', 'https://www.azlyrics.com/lyrics/tomwaits/imyourlatenighteveningprostitute.html', 'https://www.azlyrics.com/lyrics/tomwaits/hadmeagirl.html', 'https://www.azlyrics.com/lyrics/tomwaits/icecreamman.html', 'https://www.azlyrics.com/lyrics/tomwaits/rockinchair.html', 'https://www.azlyrics.com/lyrics/tomwaits/virginiaavenue.html', 'https://www.azlyrics.com/lyrics/tomwaits/midnightlullabye.html', 'https://www.azlyrics.com/lyrics/tomwaits/whenyouaintgotnobody.html', 'https://www.azlyrics.com/lyrics/tomwaits/littletriptoheaven.html', 'https://www.azlyrics.com/lyrics/tomwaits/frankssong.html', 'https://www.azlyrics.com/lyrics/tomwaits/lookslikeimupshitcreekagain.html', 'https://www.azlyrics.com/lyrics/tomwaits/solongillseeya.html', 'https://www.azlyrics.com/lyrics/tomwaits/earthdiedscreaming.html', 'https://www.azlyrics.com/lyrics/tomwaits/dirtintheground.html', 'https://www.azlyrics.com/lyrics/tomwaits/suchascream.html', 'https://www.azlyrics.com/lyrics/tomwaits/allstrippeddown.html', 'https://www.azlyrics.com/lyrics/tomwaits/whoareyou.html', 'https://www.azlyrics.com/lyrics/tomwaits/theoceandoesntwantme.html', 'https://www.azlyrics.com/lyrics/tomwaits/jesusgonnabehere.html', 'https://www.azlyrics.com/lyrics/tomwaits/alittlerain.html', 'https://www.azlyrics.com/lyrics/tomwaits/inthecolosseum.html', 'https://www.azlyrics.com/lyrics/tomwaits/goinoutwest.html', 'https://www.azlyrics.com/lyrics/tomwaits/murderintheredbarn.html', 'https://www.azlyrics.com/lyrics/tomwaits/blackwings.html', 'https://www.azlyrics.com/lyrics/tomwaits/whistledownthewind.html', 'https://www.azlyrics.com/lyrics/tomwaits/idontwannagrowup.html', 'https://www.azlyrics.com/lyrics/tomwaits/letmegetuponit.html', 'https://www.azlyrics.com/lyrics/tomwaits/thatfeel.html', 'https://www.azlyrics.com/lyrics/tomwaits/hopeidontfallinlovewithyou.html', 'https://www.azlyrics.com/lyrics/tomwaits/ol55.html', 'https://www.azlyrics.com/lyrics/tomwaits/mockinbird.html', 'https://www.azlyrics.com/lyrics/tomwaits/inbetweenlove.html', 'https://www.azlyrics.com/lyrics/tomwaits/blueskies.html', 'https://www.azlyrics.com/lyrics/tomwaits/nobody.html', 'https://www.azlyrics.com/lyrics/tomwaits/iwantyou.html', 'https://www.azlyrics.com/lyrics/tomwaits/shivermetimbers.html', 'https://www.azlyrics.com/lyrics/tomwaits/grapefruitmoon.html', 'https://www.azlyrics.com/lyrics/tomwaits/diamondsonmywindshield.html', 'https://www.azlyrics.com/lyrics/tomwaits/pleasecallmebaby.html', 'https://www.azlyrics.com/lyrics/tomwaits/soitgoes.html', 'https://www.azlyrics.com/lyrics/tomwaits/oldshoes.html', 'https://www.azlyrics.com/lyrics/tomwaits/luckydayoverture.html', 'https://www.azlyrics.com/lyrics/tomwaits/theblackrider.html', 'https://www.azlyrics.com/lyrics/tomwaits/november.html', 'https://www.azlyrics.com/lyrics/tomwaits/justtherightbullets.html', 'https://www.azlyrics.com/lyrics/tomwaits/taintnosin.html', 'https://www.azlyrics.com/lyrics/tomwaits/thatstheway.html', 'https://www.azlyrics.com/lyrics/tomwaits/thebriarandtherose.html', 'https://www.azlyrics.com/lyrics/tomwaits/illshootthemoon.html', 'https://www.azlyrics.com/lyrics/tomwaits/flashpanhunter.html', 'https://www.azlyrics.com/lyrics/tomwaits/crossroads.html', 'https://www.azlyrics.com/lyrics/tomwaits/gospeltrain.html', 'https://www.azlyrics.com/lyrics/tomwaits/luckyday.html', 'https://www.azlyrics.com/lyrics/tomwaits/thelastroseofsummer.html', 'https://www.azlyrics.com/lyrics/tomwaits/biginjapan.html', 'https://www.azlyrics.com/lyrics/tomwaits/lowsideoftheroad.html', 'https://www.azlyrics.com/lyrics/tomwaits/holdon.html', 'https://www.azlyrics.com/lyrics/tomwaits/getbehindthemule.html', 'https://www.azlyrics.com/lyrics/tomwaits/housewherenobodylives.html', 'https://www.azlyrics.com/lyrics/tomwaits/coldwater.html', 'https://www.azlyrics.com/lyrics/tomwaits/pony.html', 'https://www.azlyrics.com/lyrics/tomwaits/whatshebuilding.html', 'https://www.azlyrics.com/lyrics/tomwaits/blackmarketbaby.html', 'https://www.azlyrics.com/lyrics/tomwaits/eyeballkid.html', 'https://www.azlyrics.com/lyrics/tomwaits/pictureinaframe.html', 'https://www.azlyrics.com/lyrics/tomwaits/chocolatejesus.html', 'https://www.azlyrics.com/lyrics/tomwaits/georgialee.html', 'https://www.azlyrics.com/lyrics/tomwaits/filipinoboxspringhog.html', 'https://www.azlyrics.com/lyrics/tomwaits/takeitwithme.html', 'https://www.azlyrics.com/lyrics/tomwaits/comeonuptothehouse.html', 'https://www.azlyrics.com/lyrics/tomwaits/alice.html', 'https://www.azlyrics.com/lyrics/tomwaits/everythingyoucanthink.html', 'https://www.azlyrics.com/lyrics/tomwaits/flowersgrave.html', 'https://www.azlyrics.com/lyrics/tomwaits/nooneknowsimgone.html', 'https://www.azlyrics.com/lyrics/tomwaits/kommienezuspadt.html', 'https://www.azlyrics.com/lyrics/tomwaits/pooredward.html', 'https://www.azlyrics.com/lyrics/tomwaits/tabletopjoe.html', 'https://www.azlyrics.com/lyrics/tomwaits/lostintheharbour.html', 'https://www.azlyrics.com/lyrics/tomwaits/wereallmadhere.html', 'https://www.azlyrics.com/lyrics/tomwaits/watchherdisappear.html', 'https://www.azlyrics.com/lyrics/tomwaits/reeperbahn.html', 'https://www.azlyrics.com/lyrics/tomwaits/imstillhere.html', 'https://www.azlyrics.com/lyrics/tomwaits/fishbird.html', 'https://www.azlyrics.com/lyrics/tomwaits/barcarolle.html', 'https://www.azlyrics.com/lyrics/tomwaits/miseryistheriveroftheworld.html', 'https://www.azlyrics.com/lyrics/tomwaits/everythinggoestohell.html', 'https://www.azlyrics.com/lyrics/tomwaits/coneyislandbaby.html', 'https://www.azlyrics.com/lyrics/tomwaits/alltheworldisgreen.html', 'https://www.azlyrics.com/lyrics/tomwaits/godsawayonbusiness.html', 'https://www.azlyrics.com/lyrics/tomwaits/anothermansvine.html', 'https://www.azlyrics.com/lyrics/tomwaits/lullaby.html', 'https://www.azlyrics.com/lyrics/tomwaits/starvinginthebellyofawhale.html', 'https://www.azlyrics.com/lyrics/tomwaits/thepartyouthrowaway.html', 'https://www.azlyrics.com/lyrics/tomwaits/woe.html', 'https://www.azlyrics.com/lyrics/tomwaits/agoodmanishardtofind.html', 'https://www.azlyrics.com/lyrics/tomwaits/topofthehill.html', 'https://www.azlyrics.com/lyrics/tomwaits/hoistthatrag.html', 'https://www.azlyrics.com/lyrics/tomwaits/sinsofmyfather.html', 'https://www.azlyrics.com/lyrics/tomwaits/shakeit.html', 'https://www.azlyrics.com/lyrics/tomwaits/dontgointothatbarn.html', 'https://www.azlyrics.com/lyrics/tomwaits/howsitgonnaend.html', 'https://www.azlyrics.com/lyrics/tomwaits/metropolitanglide.html', 'https://www.azlyrics.com/lyrics/tomwaits/deadandlovely.html', 'https://www.azlyrics.com/lyrics/tomwaits/circus.html', 'https://www.azlyrics.com/lyrics/tomwaits/trampledrose.html', 'https://www.azlyrics.com/lyrics/tomwaits/greengrass.html', 'https://www.azlyrics.com/lyrics/tomwaits/babygonnaleaveme.html', 'https://www.azlyrics.com/lyrics/tomwaits/clangboomsteam.html', 'https://www.azlyrics.com/lyrics/tomwaits/makeitrain.html', 'https://www.azlyrics.com/lyrics/tomwaits/dayaftertomorrow.html', 'https://www.azlyrics.com/lyrics/tomwaits/lietome.html', 'https://www.azlyrics.com/lyrics/tomwaits/lowdown.html', 'https://www.azlyrics.com/lyrics/tomwaits/219.html', 'https://www.azlyrics.com/lyrics/tomwaits/fishinthejailhouse.html', 'https://www.azlyrics.com/lyrics/tomwaits/bottomoftheworld.html', 'https://www.azlyrics.com/lyrics/tomwaits/lucinda.html', 'https://www.azlyrics.com/lyrics/tomwaits/aintgoindowntothewell.html', 'https://www.azlyrics.com/lyrics/tomwaits/lordivebeenchanged.html', 'https://www.azlyrics.com/lyrics/tomwaits/puttinonthedog.html', 'https://www.azlyrics.com/lyrics/tomwaits/roadtopeace.html', 'https://www.azlyrics.com/lyrics/tomwaits/allthetime.html', 'https://www.azlyrics.com/lyrics/tomwaits/thereturnofjackieandjudy.html', 'https://www.azlyrics.com/lyrics/tomwaits/walkaway.html', 'https://www.azlyrics.com/lyrics/tomwaits/seaoflove.html', 'https://www.azlyrics.com/lyrics/tomwaits/buzzfledderjohn.html', 'https://www.azlyrics.com/lyrics/tomwaits/rainsonme.html', 'https://www.azlyrics.com/lyrics/tomwaits/benddownthebranches.html', 'https://www.azlyrics.com/lyrics/tomwaits/youcanneverholdbackspring.html', 'https://www.azlyrics.com/lyrics/tomwaits/longwayhome.html', 'https://www.azlyrics.com/lyrics/tomwaits/widowsgrove.html', 'https://www.azlyrics.com/lyrics/tomwaits/littledropofpoison.html', 'https://www.azlyrics.com/lyrics/tomwaits/shinythings.html', 'https://www.azlyrics.com/lyrics/tomwaits/theworldkeepsturning.html', 'https://www.azlyrics.com/lyrics/tomwaits/tellittome.html', 'https://www.azlyrics.com/lyrics/tomwaits/neverletgo.html', 'https://www.azlyrics.com/lyrics/tomwaits/fanninstreet.html', 'https://www.azlyrics.com/lyrics/tomwaits/littleman.html', 'https://www.azlyrics.com/lyrics/tomwaits/itsover.html', 'https://www.azlyrics.com/lyrics/tomwaits/ifihavetogo.html', 'https://www.azlyrics.com/lyrics/tomwaits/goodnightirene.html', 'https://www.azlyrics.com/lyrics/tomwaits/thefalloftroy.html', 'https://www.azlyrics.com/lyrics/tomwaits/takecareofallmychildren.html', 'https://www.azlyrics.com/lyrics/tomwaits/downtherebythetrain.html', 'https://www.azlyrics.com/lyrics/tomwaits/dannysays.html', 'https://www.azlyrics.com/lyrics/tomwaits/jaynesbluewish.html', 'https://www.azlyrics.com/lyrics/tomwaits/youngatheart.html', 'https://www.azlyrics.com/lyrics/tomwaits/whatkeepsmankindalive.html', 'https://www.azlyrics.com/lyrics/tomwaits/childrensstory.html', 'https://www.azlyrics.com/lyrics/tomwaits/heighhothedwarfsmarchingsong.html', 'https://www.azlyrics.com/lyrics/tomwaits/armyants.html', 'https://www.azlyrics.com/lyrics/tomwaits/booksofmoses.html', 'https://www.azlyrics.com/lyrics/tomwaits/twosisters.html', 'https://www.azlyrics.com/lyrics/tomwaits/firstkiss.html', 'https://www.azlyrics.com/lyrics/tomwaits/dogdoor.html', 'https://www.azlyrics.com/lyrics/tomwaits/nirvana.html', 'https://www.azlyrics.com/lyrics/tomwaits/homeillneverbe.html', 'https://www.azlyrics.com/lyrics/tomwaits/poorlittlelamb.html', 'https://www.azlyrics.com/lyrics/tomwaits/altarboy.html', 'https://www.azlyrics.com/lyrics/tomwaits/thepontiac.html', 'https://www.azlyrics.com/lyrics/tomwaits/spideyswildride.html', 'https://www.azlyrics.com/lyrics/tomwaits/kingkong.html', 'https://www.azlyrics.com/lyrics/tomwaits/ontheroad.html', 'https://www.azlyrics.com/lyrics/tomwaits/dogtreat.html', 'https://www.azlyrics.com/lyrics/tomwaits/missingmyson.html', 'https://www.azlyrics.com/lyrics/tomwaits/chicago.html', 'https://www.azlyrics.com/lyrics/tomwaits/raisedrightmen.html', 'https://www.azlyrics.com/lyrics/tomwaits/talkingatthesametime.html', 'https://www.azlyrics.com/lyrics/tomwaits/getlost.html', 'https://www.azlyrics.com/lyrics/tomwaits/facetothehighway.html', 'https://www.azlyrics.com/lyrics/tomwaits/payme.html', 'https://www.azlyrics.com/lyrics/tomwaits/backinthecrowd.html', 'https://www.azlyrics.com/lyrics/tomwaits/badasme.html', 'https://www.azlyrics.com/lyrics/tomwaits/kissme.html', 'https://www.azlyrics.com/lyrics/tomwaits/satisfied.html', 'https://www.azlyrics.com/lyrics/tomwaits/lastleaf.html', 'https://www.azlyrics.com/lyrics/tomwaits/hellbrokeluce.html', 'https://www.azlyrics.com/lyrics/tomwaits/newyearseve.html', 'https://www.azlyrics.com/lyrics/tomwaits/shestoletheblush.html', 'https://www.azlyrics.com/lyrics/tomwaits/tellme.html', 'https://www.azlyrics.com/lyrics/tomwaits/afteryoudie.html', 'https://www.azlyrics.com/lyrics/tomwaits/backinthegoodoldworldgypsy.html', 'https://www.azlyrics.com/lyrics/tomwaits/coldcoldgroundlive.html', 'https://www.azlyrics.com/lyrics/tomwaits/fallingdown.html', 'https://www.azlyrics.com/lyrics/tomwaits/goodoldworldwaltz.html', 'https://www.azlyrics.com/lyrics/tomwaits/livecircus.html', 'https://www.azlyrics.com/lyrics/tomwaits/ontheothersideoftheworld.html', 'https://www.azlyrics.com/lyrics/tomwaits/redshoes.html', 'https://www.azlyrics.com/lyrics/tomwaits/story.html', 'https://www.azlyrics.com/lyrics/tomwaits/takeonelastlook.html'], 'oldcrowmedicineshow': ['https://www.azlyrics.com/lyrics/oldcrowmedicineshow/raisearuckus.html', 'https://www.azlyrics.com/lyrics/oldcrowmedicineshow/tearitdown.html', 'https://www.azlyrics.com/lyrics/oldcrowmedicineshow/hesitationblues.html', 'https://www.azlyrics.com/lyrics/oldcrowmedicineshow/lonesomeroadblues.html', 'https://www.azlyrics.com/lyrics/oldcrowmedicineshow/thatllbeabetterday.html', 'https://www.azlyrics.com/lyrics/oldcrowmedicineshow/bollweevil.html', 'https://www.azlyrics.com/lyrics/oldcrowmedicineshow/cocainehabit.html', 'https://www.azlyrics.com/lyrics/oldcrowmedicineshow/thesilverdagger.html', 'https://www.azlyrics.com/lyrics/oldcrowmedicineshow/troublethatimin.html', 'https://www.azlyrics.com/lyrics/oldcrowmedicineshow/goodbyebooze.html', 'https://www.azlyrics.com/lyrics/oldcrowmedicineshow/shack9.html', 'https://www.azlyrics.com/lyrics/oldcrowmedicineshow/tellittome.html', 'https://www.azlyrics.com/lyrics/oldcrowmedicineshow/bigtimeinthejungle.html', 'https://www.azlyrics.com/lyrics/oldcrowmedicineshow/poorman.html', 'https://www.azlyrics.com/lyrics/oldcrowmedicineshow/tearitdown.html', 'https://www.azlyrics.com/lyrics/oldcrowmedicineshow/hardtolove.html', 'https://www.azlyrics.com/lyrics/oldcrowmedicineshow/ccrider.html', 'https://www.azlyrics.com/lyrics/oldcrowmedicineshow/trialstroubles.html', 'https://www.azlyrics.com/lyrics/oldcrowmedicineshow/hardtotell.html', 'https://www.azlyrics.com/lyrics/oldcrowmedicineshow/takeemaway.html', 'https://www.azlyrics.com/lyrics/oldcrowmedicineshow/wereallinthistogether.html', 'https://www.azlyrics.com/lyrics/oldcrowmedicineshow/wagonwheel.html', 'https://www.azlyrics.com/lyrics/oldcrowmedicineshow/downhomegirl.html', 'https://www.azlyrics.com/lyrics/oldcrowmedicineshow/cocainehabit.html', 'https://www.azlyrics.com/lyrics/oldcrowmedicineshow/minglewoodblues.html', 'https://www.azlyrics.com/lyrics/oldcrowmedicineshow/mygoodgal.html', 'https://www.azlyrics.com/lyrics/oldcrowmedicineshow/jamesriverblues.html', 'https://www.azlyrics.com/lyrics/oldcrowmedicineshow/newvirginiacreeper.html', 'https://www.azlyrics.com/lyrics/oldcrowmedicineshow/unionmaid.html', 'https://www.azlyrics.com/lyrics/oldcrowmedicineshow/letitalone.html', 'https://www.azlyrics.com/lyrics/oldcrowmedicineshow/godsgotit.html', 'https://www.azlyrics.com/lyrics/oldcrowmedicineshow/ihearthemall.html', 'https://www.azlyrics.com/lyrics/oldcrowmedicineshow/dontridethathorse.html', 'https://www.azlyrics.com/lyrics/oldcrowmedicineshow/bobcattracks.html', 'https://www.azlyrics.com/lyrics/oldcrowmedicineshow/alabamahightest.html', 'https://www.azlyrics.com/lyrics/oldcrowmedicineshow/highwayhalo.html', 'https://www.azlyrics.com/lyrics/oldcrowmedicineshow/thegreatesthustlerofall.html', 'https://www.azlyrics.com/lyrics/oldcrowmedicineshow/methamphetamine.html', 'https://www.azlyrics.com/lyrics/oldcrowmedicineshow/nextgoround.html', 'https://www.azlyrics.com/lyrics/oldcrowmedicineshow/humdinger.html', 'https://www.azlyrics.com/lyrics/oldcrowmedicineshow/motelinmemphis.html', 'https://www.azlyrics.com/lyrics/oldcrowmedicineshow/eveningsun.html', 'https://www.azlyrics.com/lyrics/oldcrowmedicineshow/maryskitchen.html', 'https://www.azlyrics.com/lyrics/oldcrowmedicineshow/crazyeyes.html', 'https://www.azlyrics.com/lyrics/oldcrowmedicineshow/tennesseepusher.html', 'https://www.azlyrics.com/lyrics/oldcrowmedicineshow/lifthimup.html', 'https://www.azlyrics.com/lyrics/oldcrowmedicineshow/caroline.html', 'https://www.azlyrics.com/lyrics/oldcrowmedicineshow/carrymeback.html', 'https://www.azlyrics.com/lyrics/oldcrowmedicineshow/wedontgrowtobacco.html', 'https://www.azlyrics.com/lyrics/oldcrowmedicineshow/levi.html', 'https://www.azlyrics.com/lyrics/oldcrowmedicineshow/bootleggersboy.html', 'https://www.azlyrics.com/lyrics/oldcrowmedicineshow/aintitenough.html', 'https://www.azlyrics.com/lyrics/oldcrowmedicineshow/mississippisaturdaynight.html', 'https://www.azlyrics.com/lyrics/oldcrowmedicineshow/genevieve.html', 'https://www.azlyrics.com/lyrics/oldcrowmedicineshow/countrygal.html', 'https://www.azlyrics.com/lyrics/oldcrowmedicineshow/halfmiledown.html', 'https://www.azlyrics.com/lyrics/oldcrowmedicineshow/sewaneemountaincatfight.html', 'https://www.azlyrics.com/lyrics/oldcrowmedicineshow/waysofman.html', 'https://www.azlyrics.com/lyrics/oldcrowmedicineshow/brushymountainconjugaltrailer.html', 'https://www.azlyrics.com/lyrics/oldcrowmedicineshow/8dogs8banjos.html', 'https://www.azlyrics.com/lyrics/oldcrowmedicineshow/sweetamarillo.html', 'https://www.azlyrics.com/lyrics/oldcrowmedicineshow/meanenoughworld.html', 'https://www.azlyrics.com/lyrics/oldcrowmedicineshow/dearlydepartedfriend.html', 'https://www.azlyrics.com/lyrics/oldcrowmedicineshow/firewater.html', 'https://www.azlyrics.com/lyrics/oldcrowmedicineshow/braveboys.html', 'https://www.azlyrics.com/lyrics/oldcrowmedicineshow/docsday.html', 'https://www.azlyrics.com/lyrics/oldcrowmedicineshow/ocumberlandriver.html', 'https://www.azlyrics.com/lyrics/oldcrowmedicineshow/tennesseebound.html', 'https://www.azlyrics.com/lyrics/oldcrowmedicineshow/shitcreek.html', 'https://www.azlyrics.com/lyrics/oldcrowmedicineshow/sweethome.html', 'https://www.azlyrics.com/lyrics/oldcrowmedicineshow/thewarden.html', 'https://www.azlyrics.com/lyrics/oldcrowmedicineshow/flickershine.html', 'https://www.azlyrics.com/lyrics/oldcrowmedicineshow/aworldaway.html', 'https://www.azlyrics.com/lyrics/oldcrowmedicineshow/childofthemississippi.html', 'https://www.azlyrics.com/lyrics/oldcrowmedicineshow/dixieavenue.html', 'https://www.azlyrics.com/lyrics/oldcrowmedicineshow/lookaway.html', 'https://www.azlyrics.com/lyrics/oldcrowmedicineshow/shoutmountainmusic.html', 'https://www.azlyrics.com/lyrics/oldcrowmedicineshow/thegoodstuff.html', 'https://www.azlyrics.com/lyrics/oldcrowmedicineshow/oldhickory.html', 'https://www.azlyrics.com/lyrics/oldcrowmedicineshow/homecomingparty.html', 'https://www.azlyrics.com/lyrics/oldcrowmedicineshow/whirlwind.html', 'https://www.azlyrics.com/lyrics/oldcrowmedicineshow/paintthistown.html', 'https://www.azlyrics.com/lyrics/oldcrowmedicineshow/bombsaway.html', 'https://www.azlyrics.com/lyrics/oldcrowmedicineshow/gloryland.html', 'https://www.azlyrics.com/lyrics/oldcrowmedicineshow/lordwillingandthecreekdontrise.html', 'https://www.azlyrics.com/lyrics/oldcrowmedicineshow/honeychile.html', 'https://www.azlyrics.com/lyrics/oldcrowmedicineshow/reasonstorun.html', 'https://www.azlyrics.com/lyrics/oldcrowmedicineshow/painkiller.html', 'https://www.azlyrics.com/lyrics/oldcrowmedicineshow/usedtobeamountain.html', 'https://www.azlyrics.com/lyrics/oldcrowmedicineshow/defordridesagain.html', 'https://www.azlyrics.com/lyrics/oldcrowmedicineshow/newmississippiflag.html', 'https://www.azlyrics.com/lyrics/oldcrowmedicineshow/johnbrownsdream.html', 'https://www.azlyrics.com/lyrics/oldcrowmedicineshow/hillbillyboy.html', 'https://www.azlyrics.com/lyrics/oldcrowmedicineshow/jubileejones.html', 'https://www.azlyrics.com/lyrics/oldcrowmedicineshow/milesaway.html', 'https://www.azlyrics.com/lyrics/oldcrowmedicineshow/keeloveranddie.html', 'https://www.azlyrics.com/lyrics/oldcrowmedicineshow/alleghenylullabye.html', 'https://www.azlyrics.com/lyrics/oldcrowmedicineshow/iwantitnow.html', 'https://www.azlyrics.com/lyrics/oldcrowmedicineshow/smokymountaingirl.html', 'https://www.azlyrics.com/lyrics/oldcrowmedicineshow/bellemeadecockfight.html', 'https://www.azlyrics.com/lyrics/oldcrowmedicineshow/shitkickedin.html', 'https://www.azlyrics.com/lyrics/oldcrowmedicineshow/daughterofthehighlands.html', 'https://www.azlyrics.com/lyrics/oldcrowmedicineshow/wolfmanoftheozarks.html', 'https://www.azlyrics.com/lyrics/oldcrowmedicineshow/namelesstennessee.html', 'https://www.azlyrics.com/lyrics/oldcrowmedicineshow/onedrop.html', 'https://www.azlyrics.com/lyrics/oldcrowmedicineshow/auldlangsyneliveattheryman.html', 'https://www.azlyrics.com/lyrics/oldcrowmedicineshow/heartupinthesky.html', 'https://www.azlyrics.com/lyrics/oldcrowmedicineshow/louderthanguns.html', 'https://www.azlyrics.com/lyrics/oldcrowmedicineshow/louisianawomanmississippiman.html', 'https://www.azlyrics.com/lyrics/oldcrowmedicineshow/nashvillerising.html', 'https://www.azlyrics.com/lyrics/oldcrowmedicineshow/prayforamerica.html', 'https://www.azlyrics.com/lyrics/oldcrowmedicineshow/quarantined.html', 'https://www.azlyrics.com/lyrics/oldcrowmedicineshow/sixteentons.html', 'https://www.azlyrics.com/lyrics/oldcrowmedicineshow/trimthistree.html', 'https://www.azlyrics.com/lyrics/oldcrowmedicineshow/willthecirclebeunbroken.html', 'https://www.azlyrics.com/lyrics/oldcrowmedicineshow/raisearuckus.html', 'https://www.azlyrics.com/lyrics/oldcrowmedicineshow/tearitdown.html', 'https://www.azlyrics.com/lyrics/oldcrowmedicineshow/hesitationblues.html', 'https://www.azlyrics.com/lyrics/oldcrowmedicineshow/lonesomeroadblues.html', 'https://www.azlyrics.com/lyrics/oldcrowmedicineshow/thatllbeabetterday.html', 'https://www.azlyrics.com/lyrics/oldcrowmedicineshow/bollweevil.html', 'https://www.azlyrics.com/lyrics/oldcrowmedicineshow/cocainehabit.html', 'https://www.azlyrics.com/lyrics/oldcrowmedicineshow/thesilverdagger.html', 'https://www.azlyrics.com/lyrics/oldcrowmedicineshow/troublethatimin.html', 'https://www.azlyrics.com/lyrics/oldcrowmedicineshow/goodbyebooze.html', 'https://www.azlyrics.com/lyrics/oldcrowmedicineshow/shack9.html', 'https://www.azlyrics.com/lyrics/oldcrowmedicineshow/tellittome.html', 'https://www.azlyrics.com/lyrics/oldcrowmedicineshow/bigtimeinthejungle.html', 'https://www.azlyrics.com/lyrics/oldcrowmedicineshow/poorman.html', 'https://www.azlyrics.com/lyrics/oldcrowmedicineshow/tearitdown.html', 'https://www.azlyrics.com/lyrics/oldcrowmedicineshow/hardtolove.html', 'https://www.azlyrics.com/lyrics/oldcrowmedicineshow/ccrider.html', 'https://www.azlyrics.com/lyrics/oldcrowmedicineshow/trialstroubles.html', 'https://www.azlyrics.com/lyrics/oldcrowmedicineshow/hardtotell.html', 'https://www.azlyrics.com/lyrics/oldcrowmedicineshow/takeemaway.html', 'https://www.azlyrics.com/lyrics/oldcrowmedicineshow/wereallinthistogether.html', 'https://www.azlyrics.com/lyrics/oldcrowmedicineshow/wagonwheel.html', 'https://www.azlyrics.com/lyrics/oldcrowmedicineshow/downhomegirl.html', 'https://www.azlyrics.com/lyrics/oldcrowmedicineshow/cocainehabit.html', 'https://www.azlyrics.com/lyrics/oldcrowmedicineshow/minglewoodblues.html', 'https://www.azlyrics.com/lyrics/oldcrowmedicineshow/mygoodgal.html', 'https://www.azlyrics.com/lyrics/oldcrowmedicineshow/jamesriverblues.html', 'https://www.azlyrics.com/lyrics/oldcrowmedicineshow/newvirginiacreeper.html', 'https://www.azlyrics.com/lyrics/oldcrowmedicineshow/unionmaid.html', 'https://www.azlyrics.com/lyrics/oldcrowmedicineshow/letitalone.html', 'https://www.azlyrics.com/lyrics/oldcrowmedicineshow/godsgotit.html', 'https://www.azlyrics.com/lyrics/oldcrowmedicineshow/ihearthemall.html', 'https://www.azlyrics.com/lyrics/oldcrowmedicineshow/dontridethathorse.html', 'https://www.azlyrics.com/lyrics/oldcrowmedicineshow/bobcattracks.html', 'https://www.azlyrics.com/lyrics/oldcrowmedicineshow/alabamahightest.html', 'https://www.azlyrics.com/lyrics/oldcrowmedicineshow/highwayhalo.html', 'https://www.azlyrics.com/lyrics/oldcrowmedicineshow/thegreatesthustlerofall.html', 'https://www.azlyrics.com/lyrics/oldcrowmedicineshow/methamphetamine.html', 'https://www.azlyrics.com/lyrics/oldcrowmedicineshow/nextgoround.html', 'https://www.azlyrics.com/lyrics/oldcrowmedicineshow/humdinger.html', 'https://www.azlyrics.com/lyrics/oldcrowmedicineshow/motelinmemphis.html', 'https://www.azlyrics.com/lyrics/oldcrowmedicineshow/eveningsun.html', 'https://www.azlyrics.com/lyrics/oldcrowmedicineshow/maryskitchen.html', 'https://www.azlyrics.com/lyrics/oldcrowmedicineshow/crazyeyes.html', 'https://www.azlyrics.com/lyrics/oldcrowmedicineshow/tennesseepusher.html', 'https://www.azlyrics.com/lyrics/oldcrowmedicineshow/lifthimup.html', 'https://www.azlyrics.com/lyrics/oldcrowmedicineshow/caroline.html', 'https://www.azlyrics.com/lyrics/oldcrowmedicineshow/carrymeback.html', 'https://www.azlyrics.com/lyrics/oldcrowmedicineshow/wedontgrowtobacco.html', 'https://www.azlyrics.com/lyrics/oldcrowmedicineshow/levi.html', 'https://www.azlyrics.com/lyrics/oldcrowmedicineshow/bootleggersboy.html', 'https://www.azlyrics.com/lyrics/oldcrowmedicineshow/aintitenough.html', 'https://www.azlyrics.com/lyrics/oldcrowmedicineshow/mississippisaturdaynight.html', 'https://www.azlyrics.com/lyrics/oldcrowmedicineshow/genevieve.html', 'https://www.azlyrics.com/lyrics/oldcrowmedicineshow/countrygal.html', 'https://www.azlyrics.com/lyrics/oldcrowmedicineshow/halfmiledown.html', 'https://www.azlyrics.com/lyrics/oldcrowmedicineshow/sewaneemountaincatfight.html', 'https://www.azlyrics.com/lyrics/oldcrowmedicineshow/waysofman.html', 'https://www.azlyrics.com/lyrics/oldcrowmedicineshow/brushymountainconjugaltrailer.html', 'https://www.azlyrics.com/lyrics/oldcrowmedicineshow/8dogs8banjos.html', 'https://www.azlyrics.com/lyrics/oldcrowmedicineshow/sweetamarillo.html', 'https://www.azlyrics.com/lyrics/oldcrowmedicineshow/meanenoughworld.html', 'https://www.azlyrics.com/lyrics/oldcrowmedicineshow/dearlydepartedfriend.html', 'https://www.azlyrics.com/lyrics/oldcrowmedicineshow/firewater.html', 'https://www.azlyrics.com/lyrics/oldcrowmedicineshow/braveboys.html', 'https://www.azlyrics.com/lyrics/oldcrowmedicineshow/docsday.html', 'https://www.azlyrics.com/lyrics/oldcrowmedicineshow/ocumberlandriver.html', 'https://www.azlyrics.com/lyrics/oldcrowmedicineshow/tennesseebound.html', 'https://www.azlyrics.com/lyrics/oldcrowmedicineshow/shitcreek.html', 'https://www.azlyrics.com/lyrics/oldcrowmedicineshow/sweethome.html', 'https://www.azlyrics.com/lyrics/oldcrowmedicineshow/thewarden.html', 'https://www.azlyrics.com/lyrics/oldcrowmedicineshow/flickershine.html', 'https://www.azlyrics.com/lyrics/oldcrowmedicineshow/aworldaway.html', 'https://www.azlyrics.com/lyrics/oldcrowmedicineshow/childofthemississippi.html', 'https://www.azlyrics.com/lyrics/oldcrowmedicineshow/dixieavenue.html', 'https://www.azlyrics.com/lyrics/oldcrowmedicineshow/lookaway.html', 'https://www.azlyrics.com/lyrics/oldcrowmedicineshow/shoutmountainmusic.html', 'https://www.azlyrics.com/lyrics/oldcrowmedicineshow/thegoodstuff.html', 'https://www.azlyrics.com/lyrics/oldcrowmedicineshow/oldhickory.html', 'https://www.azlyrics.com/lyrics/oldcrowmedicineshow/homecomingparty.html', 'https://www.azlyrics.com/lyrics/oldcrowmedicineshow/whirlwind.html', 'https://www.azlyrics.com/lyrics/oldcrowmedicineshow/paintthistown.html', 'https://www.azlyrics.com/lyrics/oldcrowmedicineshow/bombsaway.html', 'https://www.azlyrics.com/lyrics/oldcrowmedicineshow/gloryland.html', 'https://www.azlyrics.com/lyrics/oldcrowmedicineshow/lordwillingandthecreekdontrise.html', 'https://www.azlyrics.com/lyrics/oldcrowmedicineshow/honeychile.html', 'https://www.azlyrics.com/lyrics/oldcrowmedicineshow/reasonstorun.html', 'https://www.azlyrics.com/lyrics/oldcrowmedicineshow/painkiller.html', 'https://www.azlyrics.com/lyrics/oldcrowmedicineshow/usedtobeamountain.html', 'https://www.azlyrics.com/lyrics/oldcrowmedicineshow/defordridesagain.html', 'https://www.azlyrics.com/lyrics/oldcrowmedicineshow/newmississippiflag.html', 'https://www.azlyrics.com/lyrics/oldcrowmedicineshow/johnbrownsdream.html', 'https://www.azlyrics.com/lyrics/oldcrowmedicineshow/hillbillyboy.html', 'https://www.azlyrics.com/lyrics/oldcrowmedicineshow/jubileejones.html', 'https://www.azlyrics.com/lyrics/oldcrowmedicineshow/milesaway.html', 'https://www.azlyrics.com/lyrics/oldcrowmedicineshow/keeloveranddie.html', 'https://www.azlyrics.com/lyrics/oldcrowmedicineshow/alleghenylullabye.html', 'https://www.azlyrics.com/lyrics/oldcrowmedicineshow/iwantitnow.html', 'https://www.azlyrics.com/lyrics/oldcrowmedicineshow/smokymountaingirl.html', 'https://www.azlyrics.com/lyrics/oldcrowmedicineshow/bellemeadecockfight.html', 'https://www.azlyrics.com/lyrics/oldcrowmedicineshow/shitkickedin.html', 'https://www.azlyrics.com/lyrics/oldcrowmedicineshow/daughterofthehighlands.html', 'https://www.azlyrics.com/lyrics/oldcrowmedicineshow/wolfmanoftheozarks.html', 'https://www.azlyrics.com/lyrics/oldcrowmedicineshow/namelesstennessee.html', 'https://www.azlyrics.com/lyrics/oldcrowmedicineshow/onedrop.html', 'https://www.azlyrics.com/lyrics/oldcrowmedicineshow/auldlangsyneliveattheryman.html', 'https://www.azlyrics.com/lyrics/oldcrowmedicineshow/heartupinthesky.html', 'https://www.azlyrics.com/lyrics/oldcrowmedicineshow/louderthanguns.html', 'https://www.azlyrics.com/lyrics/oldcrowmedicineshow/louisianawomanmississippiman.html', 'https://www.azlyrics.com/lyrics/oldcrowmedicineshow/nashvillerising.html', 'https://www.azlyrics.com/lyrics/oldcrowmedicineshow/prayforamerica.html', 'https://www.azlyrics.com/lyrics/oldcrowmedicineshow/quarantined.html', 'https://www.azlyrics.com/lyrics/oldcrowmedicineshow/sixteentons.html', 'https://www.azlyrics.com/lyrics/oldcrowmedicineshow/trimthistree.html', 'https://www.azlyrics.com/lyrics/oldcrowmedicineshow/willthecirclebeunbroken.html']})\n"
     ]
    }
   ],
   "source": [
    "# Extract the song links from each artist\n",
    "for artist, artist_page in artists.items():\n",
    "    response = requests.get(artist_page)\n",
    "    time.sleep(5 + 10 * random.random())\n",
    "    \n",
    "    soup = BeautifulSoup(response.text, 'html.parser')\n",
    "    for link in soup.find_all('a', href=True):\n",
    "        if '/lyrics/' in link['href']:\n",
    "            # Correct the URL construction\n",
    "            full_url = f\"https://www.azlyrics.com{link['href']}\"\n",
    "            lyrics_pages[artist].append(full_url)\n",
    "\n",
    "# Print the links to troubleshoot\n",
    "print(lyrics_pages)\n",
    "\n",
    "# Ensure we have enough lyrics pages to scrape\n",
    "for artist, lp in lyrics_pages.items():\n",
    "    assert(len(set(lp)) > 20)"
   ]
  },
  {
   "cell_type": "code",
   "execution_count": null,
   "id": "b49b95a2",
   "metadata": {},
   "outputs": [],
   "source": []
  },
  {
   "cell_type": "markdown",
   "id": "9c285ec1",
   "metadata": {},
   "source": [
    "Let's make sure we have enough lyrics pages to scrape. "
   ]
  },
  {
   "cell_type": "code",
   "execution_count": 28,
   "id": "ae4cda68",
   "metadata": {},
   "outputs": [],
   "source": [
    "for artist, lp in lyrics_pages.items() :\n",
    "    assert(len(set(lp)) > 20) "
   ]
  },
  {
   "cell_type": "code",
   "execution_count": 29,
   "id": "edca10d6",
   "metadata": {},
   "outputs": [
    {
     "name": "stdout",
     "output_type": "stream",
     "text": [
      "For tomwaits we have 604.\n",
      "The full pull will take for this artist will take 1.68 hours.\n",
      "For oldcrowmedicineshow we have 230.\n",
      "The full pull will take for this artist will take 0.64 hours.\n"
     ]
    }
   ],
   "source": [
    "# Let's see how long it's going to take to pull these lyrics \n",
    "# if we're waiting `5 + 10*random.random()` seconds \n",
    "for artist, links in lyrics_pages.items() : \n",
    "    print(f\"For {artist} we have {len(links)}.\")\n",
    "    print(f\"The full pull will take for this artist will take {round(len(links)*10/3600,2)} hours.\")"
   ]
  },
  {
   "cell_type": "markdown",
   "id": "011be6c6",
   "metadata": {},
   "source": [
    "## Part 2: Pulling Lyrics\n",
    "\n",
    "Now that we have the links to our lyrics pages, let's go scrape them! Here are the steps for this part. \n",
    "\n",
    "1. Create an empty folder in our repo called \"lyrics\". \n",
    "1. Iterate over the artists in `lyrics_pages`. \n",
    "1. Create a subfolder in lyrics with the artist's name. For instance, if the artist was Cher you'd have `lyrics/cher/` in your repo.\n",
    "1. Iterate over the pages. \n",
    "1. Request the page and extract the lyrics from the returned HTML file using BeautifulSoup.\n",
    "1. Use the function below, `generate_filename_from_url`, to create a filename based on the lyrics page, then write the lyrics to a text file with that name. \n"
   ]
  },
  {
   "cell_type": "code",
   "execution_count": 30,
   "id": "67693711",
   "metadata": {},
   "outputs": [],
   "source": [
    "def generate_filename_from_link(link) :\n",
    "    \n",
    "    if not link :\n",
    "        return None\n",
    "    \n",
    "    # drop the http or https and the html\n",
    "    name = link.replace(\"https\",\"\").replace(\"http\",\"\")\n",
    "    name = link.replace(\".html\",\"\")\n",
    "\n",
    "    name = name.replace(\"/lyrics/\",\"\")\n",
    "    \n",
    "    # Replace useless chareacters with UNDERSCORE\n",
    "    name = name.replace(\"://\",\"\").replace(\".\",\"_\").replace(\"/\",\"_\")\n",
    "    \n",
    "    # tack on .txt\n",
    "    name = name + \".txt\"\n",
    "    \n",
    "    return(name)\n"
   ]
  },
  {
   "cell_type": "code",
   "execution_count": 31,
   "id": "94a78c78",
   "metadata": {},
   "outputs": [],
   "source": [
    "# Make the lyrics folder here. If you'd like to practice your programming, add functionality \n",
    "# that checks to see if the folder exists. If it does, then use shutil.rmtree to remove it and create a new one.\n",
    "\n",
    "if os.path.isdir(\"lyrics\") : \n",
    "    shutil.rmtree(\"lyrics/\")\n",
    "\n",
    "os.mkdir(\"lyrics\")"
   ]
  },
  {
   "cell_type": "code",
   "execution_count": 32,
   "id": "d655b687",
   "metadata": {},
   "outputs": [],
   "source": [
    "url_stub = \"https://www.azlyrics.com\" \n",
    "start = time.time()\n",
    "\n",
    "total_pages = 0 \n",
    "\n",
    "# for artist in lyrics_pages :\n",
    "\n",
    "#     Use this space to carry out the following steps: \n",
    "    \n",
    "#     1. Build a subfolder for the artist\n",
    "#     2. Iterate over the lyrics pages\n",
    "#     3. Request the lyrics page. \n",
    "#         Don't forget to add a line like `time.sleep(5 + 10*random.random())`\n",
    "#         to sleep after making the request\n",
    "#     4. Extract the title and lyrics from the page.\n",
    "#     5. Write out the title, two returns ('\\n'), and the lyrics. Use `generate_filename_from_url`\n",
    "#        to generate the filename. \n",
    "    \n",
    "#     Remember to pull at least 20 songs per artist. It may be fun to pull all the songs for the artist\n",
    "    "
   ]
  },
  {
   "cell_type": "code",
   "execution_count": 37,
   "id": "b310d858",
   "metadata": {},
   "outputs": [
    {
     "name": "stdout",
     "output_type": "stream",
     "text": [
      "Total lyrics pages processed: 80\n",
      "Total time taken: 1474.7134609222412 seconds\n"
     ]
    }
   ],
   "source": [
    "import warnings\n",
    "\n",
    "# Suppress warnings\n",
    "warnings.filterwarnings(\"ignore\")\n",
    "\n",
    "# Iterate over each artist in lyrics_pages\n",
    "for artist in lyrics_pages:\n",
    "    artist_folder = os.path.join(\"lyrics\", artist)\n",
    "    os.makedirs(artist_folder, exist_ok=True)\n",
    "\n",
    "    # Initialize the counter for the artist's lyrics\n",
    "    artist_page_count = 0\n",
    "\n",
    "    for link in lyrics_pages[artist]:\n",
    "        try:\n",
    "            response = requests.get(link)\n",
    "            time.sleep(3 + 5 * random.random())  # Reduced sleep time\n",
    "\n",
    "            soup = BeautifulSoup(response.text, 'html.parser')\n",
    "            title_tag = soup.find('b')\n",
    "            title = title_tag.text.strip() if title_tag else \"Unknown Title\"\n",
    "\n",
    "            lyrics_div = soup.find('div', class_='col-xs-12 col-lg-8 text-center')\n",
    "            if lyrics_div:\n",
    "                lyrics = lyrics_div.get_text(separator='\\n').strip()\n",
    "            else:\n",
    "                lyrics = \"Lyrics not found\"\n",
    "\n",
    "            filename = generate_filename_from_link(link)\n",
    "            file_path = os.path.join(artist_folder, filename)\n",
    "\n",
    "            with open(file_path, 'w', encoding='utf-8') as file:\n",
    "                file.write(f\"{title}\\n\\n{lyrics}\")\n",
    "\n",
    "            artist_page_count += 1\n",
    "            total_pages += 1\n",
    "\n",
    "            # Limit to 40 songs per artist to make it run better\n",
    "            if artist_page_count >= 40:\n",
    "                break\n",
    "\n",
    "        except Exception as e:\n",
    "            # Optionally log the error to a file instead of printing\n",
    "            with open(\"error_log.txt\", \"a\") as log_file:\n",
    "                log_file.write(f\"Error processing {link}: {e}\\n\")\n",
    "\n",
    "# Print final statistics\n",
    "print(f\"Total lyrics pages processed: {total_pages}\")\n",
    "print(f\"Total time taken: {time.time() - start} seconds\")"
   ]
  },
  {
   "cell_type": "code",
   "execution_count": null,
   "id": "61cd29de",
   "metadata": {},
   "outputs": [],
   "source": []
  },
  {
   "cell_type": "code",
   "execution_count": null,
   "id": "060f56f5",
   "metadata": {},
   "outputs": [],
   "source": []
  },
  {
   "cell_type": "code",
   "execution_count": null,
   "id": "a5053ea6",
   "metadata": {},
   "outputs": [],
   "source": []
  },
  {
   "cell_type": "code",
   "execution_count": 39,
   "id": "36c394f1",
   "metadata": {},
   "outputs": [
    {
     "name": "stdout",
     "output_type": "stream",
     "text": [
      "Total run time was 0.44 hours.\n"
     ]
    }
   ],
   "source": [
    "print(f\"Total run time was {round((time.time() - start)/3600,2)} hours.\")"
   ]
  },
  {
   "cell_type": "markdown",
   "id": "054cf14b",
   "metadata": {},
   "source": [
    "---\n",
    "\n",
    "# Evaluation\n",
    "\n",
    "This assignment asks you to pull data by scraping www.AZLyrics.com.  After you have finished the above sections , run all the cells in this notebook. Print this to PDF and submit it, per the instructions."
   ]
  },
  {
   "cell_type": "code",
   "execution_count": 40,
   "id": "217c2b0a",
   "metadata": {},
   "outputs": [],
   "source": [
    "# Simple word extractor from Peter Norvig: https://norvig.com/spell-correct.html\n",
    "def words(text): \n",
    "    return re.findall(r'\\w+', text.lower())"
   ]
  },
  {
   "cell_type": "markdown",
   "id": "37778a1c",
   "metadata": {},
   "source": [
    "## Checking Lyrics \n",
    "\n",
    "The output from your lyrics scrape should be stored in files located in this path from the directory:\n",
    "`/lyrics/[Artist Name]/[filename from URL]`. This code summarizes the information at a high level to help the instructor evaluate your work. "
   ]
  },
  {
   "cell_type": "code",
   "execution_count": 41,
   "id": "bccac29c",
   "metadata": {},
   "outputs": [
    {
     "name": "stdout",
     "output_type": "stream",
     "text": [
      "For tomwaits we have 40 files.\n",
      "For tomwaits we have roughly 15650 words, 2449 are unique.\n",
      "For oldcrowmedicineshow we have 38 files.\n",
      "For oldcrowmedicineshow we have roughly 11083 words, 1465 are unique.\n"
     ]
    }
   ],
   "source": [
    "artist_folders = os.listdir(\"lyrics/\")\n",
    "artist_folders = [f for f in artist_folders if os.path.isdir(\"lyrics/\" + f)]\n",
    "\n",
    "for artist in artist_folders : \n",
    "    artist_files = os.listdir(\"lyrics/\" + artist)\n",
    "    artist_files = [f for f in artist_files if 'txt' in f or 'csv' in f or 'tsv' in f]\n",
    "\n",
    "    print(f\"For {artist} we have {len(artist_files)} files.\")\n",
    "\n",
    "    artist_words = []\n",
    "\n",
    "    for f_name in artist_files : \n",
    "        with open(\"lyrics/\" + artist + \"/\" + f_name) as infile : \n",
    "            artist_words.extend(words(infile.read()))\n",
    "\n",
    "            \n",
    "    print(f\"For {artist} we have roughly {len(artist_words)} words, {len(set(artist_words))} are unique.\")\n"
   ]
  }
 ],
 "metadata": {
  "kernelspec": {
   "display_name": "Python 3 (ipykernel)",
   "language": "python",
   "name": "python3"
  },
  "language_info": {
   "codemirror_mode": {
    "name": "ipython",
    "version": 3
   },
   "file_extension": ".py",
   "mimetype": "text/x-python",
   "name": "python",
   "nbconvert_exporter": "python",
   "pygments_lexer": "ipython3",
   "version": "3.9.7"
  }
 },
 "nbformat": 4,
 "nbformat_minor": 5
}
